{
 "cells": [
  {
   "cell_type": "code",
   "execution_count": 1,
   "metadata": {},
   "outputs": [
    {
     "data": {
      "text/plain": [
       "Text(0, 0.5, 'Height')"
      ]
     },
     "execution_count": 1,
     "metadata": {},
     "output_type": "execute_result"
    },
    {
     "data": {
      "image/png": "[encoded data removed]",
      "text/plain": [
       "<Figure size 432x288 with 1 Axes>"
      ]
     },
     "metadata": {
      "needs_background": "light"
     },
     "output_type": "display_data"
    }
   ],
   "source": [
    "#1D projectile using euler\n",
    "\n",
    "import numpy as np\n",
    "import matplotlib.pyplot as plt\n",
    "#eulers method\n",
    "t_max = 10 # maximum time\n",
    "dt = 0.1 # time step\n",
    "g = -9.81\n",
    "n_steps = int(t_max/ dt)\n",
    "t = np.zeros(n_steps)\n",
    "v = np.zeros(n_steps)\n",
    "x = np.zeros(n_steps)\n",
    "height = np.zeros(n_steps)\n",
    "# set initial conditions\n",
    "t[0] = 0\n",
    "v[0] = 0\n",
    "\n",
    "for i in range(1,n_steps):\n",
    "    t[i] = t[i-1] + dt\n",
    "    v[i] = v[i-1] + dt * g\n",
    "\n",
    "#integration\n",
    "x[i] = x[i-1] +  dt*v[i-1]\n",
    "\n",
    "for i in range(1,n_steps):\n",
    "    t[i] = t[i-1] + dt\n",
    "    v[i] = v[i-1] + dt * g\n",
    "    x[i] = x[i-1] + dt * v[i-1]\n",
    "\n",
    "for i in range(1,n_steps):\n",
    "    height[i]=x[-i]\n",
    "\n",
    "plt.plot(t,x)\n",
    "plt.xlabel(\"Time\")\n",
    "plt.ylabel(\"Height\")"
   ]
  },
  {
   "cell_type": "code",
   "execution_count": 7,
   "metadata": {},
   "outputs": [
    {
     "data": {
      "text/plain": [
       "Text(0, 0.5, 'y')"
      ]
     },
     "execution_count": 7,
     "metadata": {},
     "output_type": "execute_result"
    },
    {
     "data": {
      "image/png": "[encoded data removed]",
      "text/plain": [
       "<Figure size 432x288 with 1 Axes>"
      ]
     },
     "metadata": {
      "needs_background": "light"
     },
     "output_type": "display_data"
    }
   ],
   "source": [
    "#2D plot of a projectile using euler\n",
    "import numpy as np\n",
    "import matplotlib.pyplot as plt\n",
    "#eulers method\n",
    "t_max = 10 # maximum time\n",
    "dt = 0.1 # time step\n",
    "g = -9.81 #a_y\n",
    "a = 0 #a_x\n",
    "u_0 = 4 #x direction initial velocity\n",
    "v_0 = 50 #y direction initial velocity\n",
    "n_steps = int(t_max/ dt)\n",
    "t = np.zeros(n_steps)\n",
    "v = np.zeros(n_steps)\n",
    "y = np.zeros(n_steps)\n",
    "u = np.zeros(n_steps)\n",
    "x = np.zeros(n_steps)\n",
    "# set initial conditions\n",
    "t[0] = 0\n",
    "u[0] = u_0\n",
    "v[0] = v_0\n",
    "\n",
    "#integration\n",
    "for i in range(1,n_steps):\n",
    "    t[i] = t[i-1] + dt\n",
    "    v[i] = v[i-1] + dt * g\n",
    "    y[i] = y[i-1] + dt * v[i-1]\n",
    "    u[i] = u[i-1] + dt * a\n",
    "    x[i] = x[i-1] + dt * u[i-1]\n",
    "\n",
    "x = x[::-1]\n",
    "\n",
    "plt.plot(x,y)\n",
    "plt.xlabel(\"x\")\n",
    "plt.ylabel(\"y\")\n",
    "#by calculator height is 127m, and by visual inspection it is approx 125-130m"
   ]
  },
  {
   "cell_type": "code",
   "execution_count": null,
   "metadata": {},
   "outputs": [],
   "source": [
    "# A sample differential equation \"dy / dx = (x - y)/2\"\n",
    "#v_x and v_y are intial conditions\n",
    "#r=,orbital radius,G=,m=,\n",
    "def dydx(t, Y):\n",
    "\treturn [dydx(t,x),dydx(t,y),-G*m*x/(r*r*r),-G*m*y/(r*r*r)]\n",
    "\n",
    "# Finds value of y for a given x using step size h\n",
    "# and initial value y0 at x0.\n",
    "def rungeKutta(Y0, t,t0, h):\n",
    "\t# Count number of iterations using step size or\n",
    "\t# step height h\n",
    "\tn = (int)((t - t0)/h)\n",
    "\t# Iterate for number of iterations\n",
    "\tY = Y0\n",
    "\tfor i in range(1, n + 1):\n",
    "\t\t\"Apply Runge Kutta Formulas to find next value of y\"\n",
    "\t\tk1 = h * dydx(t0, Y)\n",
    "\t\tk2 = h * dydx(t0 + 0.5 * h, Y + 0.5 * k1)\n",
    "\t\tk3 = h * dydx(t0 + 0.5 * h, Y + 0.5 * k2)\n",
    "\t\tk4 = h * dydx(t0 + h, Y + k3)\n",
    "\n",
    "\t\t# Update next value of y\n",
    "\t\tY = Y + (1.0 / 6.0)*(k1 + 2 * k2 + 2 * k3 + k4)\n",
    "\n",
    "\t\t# Update next value of x\n",
    "\t\tt0 = t0 + h\n",
    "\treturn Y\n",
    "\n",
    "# Driver method\n",
    "t0 = 0\n",
    "Y0 = [149*109*1000,0,5,8]\n",
    "t = 2\n",
    "h = 0.2\n",
    "print ('The value of y at x is:', rungeKutta(Y0, t,t0, h))\n",
    "\n",
    "#Y=[x,y,v_x,v_y]"
   ]
  },
  {
   "cell_type": "code",
   "execution_count": null,
   "metadata": {},
   "outputs": [],
   "source": [
    "#eulers method\n",
    "# Import needed modules\n",
    "from pylab import *\n",
    "G = 4*pi**2\t# define G.\n",
    "\n",
    "## Set initial position and speed of satellite.\n",
    "M  = 1.0\t# mass of the central mass\n",
    "\n",
    "# give info to help user decide on initial conditions \n",
    "Ro = 1.0\t# Radius of the orbit \n",
    "v =sqrt(G*M/Ro)\t# v assuming circular orbit\n",
    "print(\"For circular orbit of r = %g, and v = %g.\" % (Ro,v)) \n",
    "\n",
    "# prompt user for initial conditions and times\n",
    "x0 = input('Initial radius: ')\n",
    "vy0 = input('Initial tangential velocity: ')\n",
    "y0 = 0.\n",
    "vx0 = 0.\n",
    "\n",
    "t0 = 0.\n",
    "tf = input(\"Enter final time: \")\n",
    "tau = input(\"Enter time step: \")\n",
    "\n",
    "## Create arrays needed to store the results for plotting\n",
    "x_plt = array([x0])\n",
    "y_plt = array([y0])\n",
    "vx_plt = array([vx0])\n",
    "vy_plt = array([vy0])\n",
    "t_plt = array([t0])\n",
    "\n",
    "## Execute Euler method\n",
    "# set starting points for iteration to initial conditions\n",
    "x_old = x0\t\n",
    "y_old = y0\n",
    "vx = vx0\n",
    "vy = vy0\n",
    "t = t0\t# set starting time to 0\n",
    "\n",
    "while (t < tf):\n",
    "\tx = x_old + vx*tau        # implement Euler step\n",
    "\ty = y_old + vy*tau\n",
    "\tr = sqrt(x**2 + y**2)\n",
    "\tvx = vx - tau*(G*M*x)/r**3\n",
    "\tvy = vy - tau*(G*M*y)/r**3\n",
    "\t\n",
    "\tx_plt = append(x_plt,x)   # Append new points to the arrays\n",
    "\ty_plt = append(y_plt,y)\n",
    "\tvx_plt = append(vx_plt,vx)\n",
    "\tvy_plt = append(vy_plt,vy)\n",
    "\tt_plt = append(t_plt,t)\n",
    "\t\n",
    "\tx_old = x    # Update x_old and y_old for next Euler step\n",
    "\ty_old = y\n",
    "\tt = t + tau  # Increment time\n",
    "\n",
    "## Plot the results\n",
    "figure(1)\n",
    "clf()\n",
    "\n",
    "# Plot the orbit\n",
    "subplot(2,1,1) # subplot() lets you put \n",
    "               # multiple plots on a single page\n",
    "\n",
    "title(r'Euler Method with $x$ = %g, $v_y$ = %g, and $\\tau$ = %g' \\\n",
    "      % (x0,vy0,tau))\n",
    "plot(x_plt,y_plt)\n",
    "\n",
    "centerx = 0.    # plot the position of the center of mass\n",
    "centery = 0.\n",
    "plot(centerx,centery,'ko')\n",
    "axis('equal')   # make axis scales equal so circular orbits look circular\n",
    "\n",
    "## Plot the energy\n",
    "subplot(2,1,2)\n",
    "eps = 0.5*(vx_plt**2 + vy_plt**2) - G*M/sqrt(x_plt**2 + y_plt**2)\n",
    "plot(t_plt,eps)\n",
    "eps_plot_min = 1.1*min(eps)\n",
    "axis([min(t_plt),max(t_plt),eps_plot_min,0])\n",
    "xlabel('t')\n",
    "ylabel('E/m')\n",
    "show()"
   ]
  }
 ],
 "metadata": {
  "kernelspec": {
   "display_name": "Python 3.10.5 64-bit",
   "language": "python",
   "name": "python3"
  },
  "language_info": {
   "codemirror_mode": {
    "name": "ipython",
    "version": 3
   },
   "file_extension": ".py",
   "mimetype": "text/x-python",
   "name": "python",
   "nbconvert_exporter": "python",
   "pygments_lexer": "ipython3",
   "version": "3.10.5"
  },
  "orig_nbformat": 4,
  "vscode": {
   "interpreter": {
    "hash": "95b8db50e45512e14d84eeff060207661ab4028e9259faf1957e664823fb229e"
   }
  }
 },
 "nbformat": 4,
 "nbformat_minor": 2
}
